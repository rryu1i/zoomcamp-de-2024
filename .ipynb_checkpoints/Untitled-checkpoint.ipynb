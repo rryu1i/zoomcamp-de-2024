{
 "cells": [
  {
   "cell_type": "code",
   "execution_count": null,
   "id": "d1aaad5a-2214-48ec-81da-a7b85ce63fbd",
   "metadata": {},
   "outputs": [],
   "source": [
    "print(\"Hello World in Codespaces!\")"
   ]
  }
 ],
 "metadata": {
  "kernelspec": {
   "display_name": "Python 3 (ipykernel)",
   "language": "python",
   "name": "python3"
  },
  "language_info": {
   "codemirror_mode": {
    "name": "ipython",
    "version": 3
   },
   "file_extension": ".py",
   "mimetype": "text/x-python",
   "name": "python",
   "nbconvert_exporter": "python",
   "pygments_lexer": "ipython3",
   "version": "3.10.13"
  }
 },
 "nbformat": 4,
 "nbformat_minor": 5
}
